{
 "cells": [
  {
   "cell_type": "code",
   "execution_count": 1,
   "id": "edc68a67-7357-4ae5-b259-1a8db5379054",
   "metadata": {},
   "outputs": [
    {
     "name": "stdout",
     "output_type": "stream",
     "text": [
      "hello, world.\n"
     ]
    }
   ],
   "source": [
    "# Say hello to the world.\n",
    "print('hello, world.')"
   ]
  },
  {
   "cell_type": "code",
   "execution_count": 2,
   "id": "cfb6fb79-e081-4995-9e6e-ea11de3a08e5",
   "metadata": {},
   "outputs": [
    {
     "data": {
      "text/plain": [
       "11"
      ]
     },
     "execution_count": 2,
     "metadata": {},
     "output_type": "execute_result"
    }
   ],
   "source": [
    "# Would show 9 if this were the last line, but it is not, so shows nothing\n",
    "4 + 5\n",
    "\n",
    "# I hope we see 11.\n",
    "5 + 6"
   ]
  },
  {
   "cell_type": "code",
   "execution_count": 4,
   "id": "c8c5472b-897e-4625-b1e9-f6cfb194bb82",
   "metadata": {},
   "outputs": [],
   "source": [
    "# Variable assignment, so no visible output.\n",
    "a = 5 + 6"
   ]
  },
  {
   "cell_type": "code",
   "execution_count": 5,
   "id": "950ce3a0-f945-482f-a51a-9a2884272c36",
   "metadata": {},
   "outputs": [
    {
     "data": {
      "text/plain": [
       "11"
      ]
     },
     "execution_count": 5,
     "metadata": {},
     "output_type": "execute_result"
    }
   ],
   "source": [
    "# However, now if we ask for a, its value will be displayed\n",
    "a"
   ]
  }
 ],
 "metadata": {
  "kernelspec": {
   "display_name": "Python 3 (ipykernel)",
   "language": "python",
   "name": "python3"
  },
  "language_info": {
   "codemirror_mode": {
    "name": "ipython",
    "version": 3
   },
   "file_extension": ".py",
   "mimetype": "text/x-python",
   "name": "python",
   "nbconvert_exporter": "python",
   "pygments_lexer": "ipython3",
   "version": "3.9.13"
  }
 },
 "nbformat": 4,
 "nbformat_minor": 5
}
